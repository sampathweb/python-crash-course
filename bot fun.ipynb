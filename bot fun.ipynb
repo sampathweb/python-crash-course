{
 "metadata": {
  "name": "bot fun"
 },
 "nbformat": 3,
 "nbformat_minor": 0,
 "worksheets": [
  {
   "cells": [
    {
     "cell_type": "raw",
     "metadata": {},
     "source": [
      "Let's have some fun with our bot using what we have just learnt!\n",
      "\n",
      "We'll try to draw some basic shapes.\n",
      "\n",
      "To draw the shapes, we will need to calculate co-ordinates for our bot to move to."
     ]
    },
    {
     "cell_type": "code",
     "collapsed": false,
     "input": [
      "from math import pi, cos, sin\n",
      "from __future__ import division\n",
      "\n",
      "resolution = 8\n",
      "angles = [2*pi*angle / resolution for angle in xrange(0, resolution+1)]\n",
      "points = [(cos(angle), sin(angle), 0) for angle in angles]\n",
      "\n",
      "print points"
     ],
     "language": "python",
     "metadata": {},
     "outputs": [
      {
       "output_type": "stream",
       "stream": "stdout",
       "text": [
        "[(1.0, 0.0, 0), (0.7071067811865476, 0.7071067811865475, 0), (6.123233995736766e-17, 1.0, 0), (-0.7071067811865475, 0.7071067811865476, 0), (-1.0, 1.2246467991473532e-16, 0), (-0.7071067811865477, -0.7071067811865475, 0), (-1.8369701987210297e-16, -1.0, 0), (0.7071067811865474, -0.7071067811865477, 0), (1.0, -2.4492935982947064e-16, 0)]\n"
       ]
      }
     ],
     "prompt_number": 2
    },
    {
     "cell_type": "raw",
     "metadata": {},
     "source": [
      "When using a Replicator2X with ABS plastic, we may need to extrude some material to clear the nozzle before starting."
     ]
    },
    {
     "cell_type": "raw",
     "metadata": {},
     "source": [
      "To print a simple, 2D shape, we will:\n",
      "\n",
      "1. Rehome the bot\n",
      "2. Heat up the platform and the toolheads\n",
      "3. Move the bot to the side\n",
      "4. Extrude some plastic to prime things\n",
      "5. Move the bot to the origin\n",
      "6. Move the bot to each point while extruding some amount"
     ]
    },
    {
     "cell_type": "raw",
     "metadata": {},
     "source": [
      "Fill in the following with your previous work."
     ]
    },
    {
     "cell_type": "code",
     "collapsed": false,
     "input": [
      "def rehome(bot):\n",
      "    pass"
     ],
     "language": "python",
     "metadata": {},
     "outputs": []
    },
    {
     "cell_type": "code",
     "collapsed": false,
     "input": [
      "def heat_up(bot, toolhead_a=None, toolhead_b=None, platform=None):\n",
      "    pass"
     ],
     "language": "python",
     "metadata": {},
     "outputs": []
    },
    {
     "cell_type": "code",
     "collapsed": false,
     "input": [
      "def queue_independent_axes(bot, axes, speed):\n",
      "    pass"
     ],
     "language": "python",
     "metadata": {},
     "outputs": []
    },
    {
     "cell_type": "code",
     "collapsed": false,
     "input": [
      "from makerbot_driver import s3g\n",
      "from threading import Condition\n",
      "from time import sleep\n",
      "\n",
      "port = '/dev/ttyACM0'\n",
      "bot = s3g.from_filename(port, Condition())\n",
      "\n",
      "# 1. rehome the bot\n",
      "rehome(bot)\n",
      "\n",
      "# 2. heat things up (we'll use just the A extruder)\n",
      "heat_up(bot, 230, 0, 70)\n",
      "\n",
      "# 3. move to the side\n",
      "queue_independent_axes(bot, x=?, ?)\n",
      "\n",
      "# 4. extrude some amount\n",
      "\n",
      "# 5. move back to the origin\n",
      "\n",
      "# 6. move to each point while extruding\n",
      "for x,y in points:\n",
      "    while True:\n",
      "        try:\n",
      "            queue_independent_axes(bot, x=?, y=?, a=?, ?)\n",
      "            break\n",
      "        except BufferOverFlowError:\n",
      "            sleep(.1)"
     ],
     "language": "python",
     "metadata": {},
     "outputs": []
    }
   ],
   "metadata": {}
  }
 ]
}