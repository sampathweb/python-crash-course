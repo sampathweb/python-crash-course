{
 "metadata": {
  "name": "bot basics"
 },
 "nbformat": 3,
 "nbformat_minor": 0,
 "worksheets": [
  {
   "cells": [
    {
     "cell_type": "raw",
     "metadata": {},
     "source": [
      "Once our bot is turned on and ready to go, we can start interacting with it in Python!\n",
      "\n",
      "We start by creating an object that represents the bot."
     ]
    },
    {
     "cell_type": "raw",
     "metadata": {},
     "source": [
      "Before you start, make sure you are in the dialout group.\n",
      "\n",
      "To check your groups, type `groups` at the command line:"
     ]
    },
    {
     "cell_type": "code",
     "collapsed": false,
     "input": [
      "!groups"
     ],
     "language": "python",
     "metadata": {},
     "outputs": []
    },
    {
     "cell_type": "raw",
     "metadata": {},
     "source": [
      "To add yourself to the dialout group, use:\n",
      "\n",
      "$ sudo addgroup $(whoami) dialout\n",
      "\n",
      "You may have to reboot or logout before this takes effect."
     ]
    },
    {
     "cell_type": "code",
     "collapsed": true,
     "input": [
      "from makerbot_driver import s3g\n",
      "from threading import Condition\n",
      "\n",
      "port = '/dev/ttyACM0' # or, /dev/ttyACM1\n",
      "\n",
      "bot = s3g.from_filename(port, Condition())"
     ],
     "language": "python",
     "metadata": {},
     "outputs": []
    },
    {
     "cell_type": "raw",
     "metadata": {},
     "source": [
      "This object can be queried in a number of difference ways.\n",
      "\n",
      "To get the temperature of the two extruders and the platform:"
     ]
    },
    {
     "cell_type": "code",
     "collapsed": false,
     "input": [
      "print bot.get_toolhead_temperature(0) # \"A\" extruder (on the right, facing the front)\n",
      "print bot.get_toolhead_temperature(1) # \"B\" extruder (on the left, facing the front)"
     ],
     "language": "python",
     "metadata": {},
     "outputs": []
    },
    {
     "cell_type": "code",
     "collapsed": false,
     "input": [
      "print bot.get_platform_temperature(0) # there is only one platform"
     ],
     "language": "python",
     "metadata": {},
     "outputs": []
    },
    {
     "cell_type": "raw",
     "metadata": {},
     "source": [
      "The bot can also tell us where it thinks it is.\n",
      "\n",
      "Note that the bot is not very smart: it has no proprioceptive sense. It's often up to you to tell it where it is."
     ]
    },
    {
     "cell_type": "code",
     "collapsed": false,
     "input": [
      "print bot.get_extended_position()"
     ],
     "language": "python",
     "metadata": {},
     "outputs": []
    },
    {
     "cell_type": "raw",
     "metadata": {},
     "source": [
      "Try moving the bot, then checking the position. \n",
      "\n",
      "To move the bot, we must unlock it. We can do that with:"
     ]
    },
    {
     "cell_type": "code",
     "collapsed": false,
     "input": [
      "bot.abort_immediately()"
     ],
     "language": "python",
     "metadata": {},
     "outputs": []
    },
    {
     "cell_type": "raw",
     "metadata": {},
     "source": [
      "Then move it and..."
     ]
    },
    {
     "cell_type": "code",
     "collapsed": false,
     "input": [
      "print bot.get_extended_position()"
     ],
     "language": "python",
     "metadata": {},
     "outputs": []
    },
    {
     "cell_type": "raw",
     "metadata": {},
     "source": [
      "Note that the position did NOT update! The bot doesn't know where it is.\n",
      "\n",
      "Not only that, but when you tell the bot to move somewhere, it will assume that it moved there successfully (even if you aborted or if the bot hit a side.)\n",
      "\n",
      "The output of .get_extended_position is a 5-tuple and a set of condition codes.\n",
      "\n",
      "The tuple represents the position of the (x, y, z, a, b) axes.\n",
      "\n",
      "x, y = the x, y position of the toolhead\n",
      "z = the height of the plate\n",
      "a, b = the position of the extruder\n",
      "\n",
      "The condition code indicates whether the endstops have been triggered.\n",
      "\n",
      "Try moving the bot, then checking if the endstops have been triggered."
     ]
    },
    {
     "cell_type": "raw",
     "metadata": {},
     "source": [
      "We can tell the bot where it is with .set_extended_position.\n",
      "\n",
      "Move the bot back to the center and move the plate to its extended position, then tell the bot that it's at the origin."
     ]
    },
    {
     "cell_type": "code",
     "collapsed": false,
     "input": [
      "bot.set_extended_position([0, 0, 0, 0, 0]) # x, y, z, a, b"
     ],
     "language": "python",
     "metadata": {},
     "outputs": []
    },
    {
     "cell_type": "raw",
     "metadata": {},
     "source": [
      "We can move the bot to the extremes with .find_axes_minimums and .find_axes_maximums.\n",
      "\n",
      "Try with x, y, z:"
     ]
    },
    {
     "cell_type": "code",
     "collapsed": false,
     "input": [
      "bot.find_axes_minimums(['x'], 250, 5) # axis, speed, timeout"
     ],
     "language": "python",
     "metadata": {},
     "outputs": []
    },
    {
     "cell_type": "code",
     "collapsed": false,
     "input": [
      "bot.find_axes_maximums(['x'], 250, 5)"
     ],
     "language": "python",
     "metadata": {},
     "outputs": []
    },
    {
     "cell_type": "raw",
     "metadata": {},
     "source": [
      "We can tell the bot to queue a move to a position with .queue_extended_point_classic.\n",
      "\n",
      "There are a number of .queue_extended_point* variants, but we'll stick to .queue_extended_point_classic for this lesson.\n",
      "\n",
      ".queue_extended_point_classic takes an (x, y, z, a, b) tuple and a speed.\n",
      "\n",
      "Try moving it 1000 steps in each direction.\n",
      "\n",
      "Which directions are positive on the axes?"
     ]
    },
    {
     "cell_type": "code",
     "collapsed": false,
     "input": [
      "bot.queue_extended_point_classic([1000, 0, 0, 0, 0], 250)"
     ],
     "language": "python",
     "metadata": {},
     "outputs": []
    },
    {
     "cell_type": "raw",
     "metadata": {},
     "source": [
      "Note that the values for the above are in steps.\n",
      "\n",
      "The bot can tell us more about itself, and we can just some Python tools to help us make interacting with the bot more convenient."
     ]
    },
    {
     "cell_type": "raw",
     "metadata": {},
     "source": [
      "Ask the bot what machine type it is:"
     ]
    },
    {
     "cell_type": "code",
     "collapsed": false,
     "input": [
      "print bot.get_name()\n",
      "print bot.get_version()\n",
      "print bot.get_toolhead_count()"
     ],
     "language": "python",
     "metadata": {},
     "outputs": []
    },
    {
     "cell_type": "raw",
     "metadata": {},
     "source": [
      "Look in the makerbot_driver/profiles directory for more information about your bot."
     ]
    },
    {
     "cell_type": "code",
     "collapsed": false,
     "input": [
      "! ls s3g/makerbot_driver/profiles"
     ],
     "language": "python",
     "metadata": {},
     "outputs": [
      {
       "output_type": "stream",
       "stream": "stdout",
       "text": [
        "Replicator2.json   ReplicatorDual.json\t  TOMStepstruderDual.json\r\n",
        "Replicator2X.json  ReplicatorSingle.json  TOMStepstruderSingle.json\r\n"
       ]
      }
     ],
     "prompt_number": 4
    },
    {
     "cell_type": "code",
     "collapsed": false,
     "input": [
      "from __future__ import unicode_literals\n",
      "from json import load\n",
      "\n",
      "# write this better\n",
      "with open('s3g/makerbot_driver/profiles/Replicator2X.json') as f:\n",
      "    replicator_2x = load(f)\n",
      "    \n",
      "print replicator_2x['axes']['X']\n",
      "print replicator_2x['axes']['Y']\n",
      "print replicator_2x['axes']['Z']\n",
      "print replicator_2x['axes']['A']\n",
      "print replicator_2x['axes']['B']"
     ],
     "language": "python",
     "metadata": {},
     "outputs": [
      {
       "output_type": "stream",
       "stream": "stdout",
       "text": [
        "{u'steps_per_mm': 88.573186, u'max_feedrate': 18000, u'platform_length': 250}\n",
        "{u'steps_per_mm': 88.573186, u'max_feedrate': 18000, u'platform_length': 150}\n",
        "{u'steps_per_mm': 400, u'max_feedrate': 1170, u'platform_length': 160}\n",
        "{u'steps_per_mm': -96.275, u'max_feedrate': 1600}\n",
        "{u'steps_per_mm': -96.275, u'max_feedrate': 1600}\n"
       ]
      }
     ],
     "prompt_number": 17
    },
    {
     "cell_type": "raw",
     "metadata": {},
     "source": [
      "Write a function call rehome. This function will move the bot to the extremes, then tell the bot its position, then tell the bot to return to the origin.\n"
     ]
    },
    {
     "cell_type": "code",
     "collapsed": false,
     "input": [
      "def rehome(bot):\n",
      "    # 0. get information about the bot\n",
      "    \n",
      "    print x_min, x_max\n",
      "    print y_min, y_max\n",
      "    print z_min, z_max\n",
      "    \n",
      "    # 1. move the bot to the extremes\n",
      "    #    using .queue_extended_point_classic\n",
      "    #    or .find_axes_minimums/.find_axes_maximums\n",
      "    \n",
      "    # 2. tell the bot that it is at its x_max, y_max, z_max\n",
      "    \n",
      "    # 3. tell the bot to return to the origin\n",
      "    x.queue_extended_position([0, 0, 0, 0, 0], 250)    "
     ],
     "language": "python",
     "metadata": {},
     "outputs": []
    },
    {
     "cell_type": "raw",
     "metadata": {},
     "source": [
      "Write a helper function called queue_independent_axes.\n",
      "\n",
      "It will queue a move on the bot where you can specify an axis.\n",
      "\n",
      "Can we write the below so that it takes mm instead of steps?"
     ]
    },
    {
     "cell_type": "code",
     "collapsed": false,
     "input": [
      "def queue_independent_axes(bot, axes, speed):\n",
      "    # 1. figure out where we are currently using\n",
      "    #    .get_extended_position\n",
      "    \n",
      "    print x, y, z, a, b\n",
      "    \n",
      "    # 2. figure out the new position we want\n",
      "    #    starting with the current position\n",
      "    #    and swapping out new co-ordinates\n",
      "    position = [x, y, z, a, b]\n",
      "    \n",
      "    if 'x' in axes:\n",
      "        position[0] = axes['x']\n",
      "    \n",
      "    x.queue_extended_position(position, speed)"
     ],
     "language": "python",
     "metadata": {},
     "outputs": []
    },
    {
     "cell_type": "raw",
     "metadata": {},
     "source": [
      "What do these do? How could you have used them above?"
     ]
    },
    {
     "cell_type": "code",
     "collapsed": false,
     "input": [
      "bot.store_home_positions('x')\n",
      "bot.recall_home_positions('x')"
     ],
     "language": "python",
     "metadata": {},
     "outputs": []
    },
    {
     "cell_type": "raw",
     "metadata": {},
     "source": [
      "To set the temperatures..."
     ]
    },
    {
     "cell_type": "code",
     "collapsed": false,
     "input": [
      "bot.set_toolhead_temperature(0, 230) # 230 deg C\n",
      "bot.set_toolhead_temperature(1, 230) # 230 deg C\n",
      "bot.set_platform_temperature(0, 65) # 65 deg C"
     ],
     "language": "python",
     "metadata": {},
     "outputs": []
    },
    {
     "cell_type": "code",
     "collapsed": false,
     "input": [
      "# causes the toolhead and platform to cool\n",
      "bot.abort_immediately()"
     ],
     "language": "python",
     "metadata": {},
     "outputs": []
    },
    {
     "cell_type": "raw",
     "metadata": {},
     "source": [
      "Write a function called heat_up that heats up the toolheads and the platform and returns when they're ready."
     ]
    },
    {
     "cell_type": "code",
     "collapsed": false,
     "input": [
      "from time import sleep\n",
      "\n",
      "def heat_up(bot, toolhead_a=None, toolhead_b=None, platform=None):\n",
      "    # 1. Set the temperatures\n",
      "    if toolhead_a:\n",
      "        bot.set_toolhead_temperature(0, 230)\n",
      "    \n",
      "    # 2. Wait in a loop\n",
      "    if toolhead_a:\n",
      "        while bot.get_toolhead_temperature(0) < toolhead_a:\n",
      "            sleep(.1)\n",
      "            print bot.get_toolhead_temperature(0),\n",
      "    \n",
      "    # 3. Return when ready\n",
      "    return"
     ],
     "language": "python",
     "metadata": {},
     "outputs": []
    }
   ],
   "metadata": {}
  }
 ]
}